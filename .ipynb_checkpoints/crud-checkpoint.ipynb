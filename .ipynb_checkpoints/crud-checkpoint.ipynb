{
 "cells": [
  {
   "cell_type": "markdown",
   "metadata": {},
   "source": [
    "## Docker"
   ]
  },
  {
   "cell_type": "markdown",
   "metadata": {},
   "source": [
    "**version**"
   ]
  },
  {
   "cell_type": "code",
   "execution_count": null,
   "metadata": {},
   "outputs": [],
   "source": [
    "docker -v"
   ]
  },
  {
   "cell_type": "markdown",
   "metadata": {},
   "source": [
    "**Extraer imagen mongodb**"
   ]
  },
  {
   "cell_type": "code",
   "execution_count": null,
   "metadata": {},
   "outputs": [],
   "source": [
    "docker pull mongo"
   ]
  },
  {
   "cell_type": "markdown",
   "metadata": {},
   "source": [
    "**Crear contenedor MongoDB**"
   ]
  },
  {
   "cell_type": "code",
   "execution_count": null,
   "metadata": {},
   "outputs": [],
   "source": [
    "docker create -it --name MongoTest -p 5000:27017 mongo"
   ]
  },
  {
   "cell_type": "markdown",
   "metadata": {},
   "source": [
    "**Iniciar contenedor**"
   ]
  },
  {
   "cell_type": "code",
   "execution_count": null,
   "metadata": {},
   "outputs": [],
   "source": [
    "docker start MongoTest"
   ]
  },
  {
   "cell_type": "markdown",
   "metadata": {},
   "source": [
    "**Detener contenedor**"
   ]
  },
  {
   "cell_type": "code",
   "execution_count": null,
   "metadata": {},
   "outputs": [],
   "source": [
    "docker stop MongoTest"
   ]
  },
  {
   "cell_type": "markdown",
   "metadata": {},
   "source": [
    "**Verificar**"
   ]
  },
  {
   "cell_type": "code",
   "execution_count": null,
   "metadata": {},
   "outputs": [],
   "source": [
    "http://localhost:5000/"
   ]
  },
  {
   "cell_type": "markdown",
   "metadata": {},
   "source": [
    "It looks like you are trying to access MongoDB over HTTP on the native driver port."
   ]
  },
  {
   "cell_type": "markdown",
   "metadata": {},
   "source": [
    "## Interacción con MongoDB"
   ]
  },
  {
   "cell_type": "code",
   "execution_count": 63,
   "metadata": {},
   "outputs": [],
   "source": [
    "from flask import Flask, request, json, Response\n",
    "from pymongo import MongoClient\n",
    "import logging as log"
   ]
  },
  {
   "cell_type": "code",
   "execution_count": 69,
   "metadata": {},
   "outputs": [],
   "source": [
    "class MongoAPI:\n",
    "    def __init__(self, data):\n",
    "        self.client = MongoClient(\"mongodb://localhost:27017/\")  \n",
    "        print(self.client)\n",
    "        database = data['database']\n",
    "        print(database)\n",
    "        collection = data['collection']\n",
    "        print(collection)\n",
    "        cursor = self.client[database]\n",
    "        print(cursor)\n",
    "        self.collection = cursor[collection]\n",
    "        self.data = data\n",
    "        \n",
    "        \n",
    "    def read(self):\n",
    "        documents = self.collection.find()\n",
    "        print(documents)\n",
    "        output = [{item: data[item] for item in data if item != '_id'} for data in documents]\n",
    "        return output\n",
    "    \n",
    "    def write(self,data):\n",
    "        log.info('Writing Data')\n",
    "        new_document = data['Document']\n",
    "        response = self.collection.insert_one(new_document)\n",
    "        output = {'Status': 'Successfully Inserted',\n",
    "                  'Document_ID': str(response.inserted_id)}\n",
    "        return output\n",
    "    \n",
    "    def update(self):\n",
    "        filt = self.data['Filter']\n",
    "        updated_data = {\"$set\": self.data['DataToBeUpdated']}\n",
    "        response = self.collection.update_one(filt, updated_data)\n",
    "        output = {'Status': 'Successfully Updated' if response.modified_count > 0 else \"Nothing was updated.\"}\n",
    "        return output\n",
    "    \n",
    "    def delete(self, data):\n",
    "        filt = data['Document']\n",
    "        response = self.collection.delete_one(filt)\n",
    "        output = {'Status': 'Successfully Deleted' if response.deleted_count > 0 else \"Document not found.\"}\n",
    "        return output"
   ]
  },
  {
   "cell_type": "markdown",
   "metadata": {},
   "source": [
    "## Prueba"
   ]
  },
  {
   "cell_type": "code",
   "execution_count": 70,
   "metadata": {},
   "outputs": [],
   "source": [
    "import json"
   ]
  },
  {
   "cell_type": "code",
   "execution_count": 71,
   "metadata": {},
   "outputs": [
    {
     "name": "stdout",
     "output_type": "stream",
     "text": [
      "MongoClient(host=['localhost:27017'], document_class=dict, tz_aware=False, connect=True)\n",
      "IshmeetDB\n",
      "people\n",
      "Database(MongoClient(host=['localhost:27017'], document_class=dict, tz_aware=False, connect=True), 'IshmeetDB')\n"
     ]
    }
   ],
   "source": [
    "data = {\"database\": \"IshmeetDB\",\"collection\": \"people\",}\n",
    "mongo_obj = MongoAPI(data)"
   ]
  },
  {
   "cell_type": "code",
   "execution_count": 72,
   "metadata": {},
   "outputs": [
    {
     "name": "stdout",
     "output_type": "stream",
     "text": [
      "<pymongo.cursor.Cursor object at 0x7f8030541a10>\n",
      "[]\n"
     ]
    }
   ],
   "source": [
    "print(json.dumps(mongo_obj.read(), indent=4))"
   ]
  },
  {
   "cell_type": "code",
   "execution_count": 73,
   "metadata": {},
   "outputs": [
    {
     "name": "stdout",
     "output_type": "stream",
     "text": [
      "<pymongo.cursor.Cursor object at 0x7f803033e450>\n"
     ]
    },
    {
     "data": {
      "text/plain": [
       "[]"
      ]
     },
     "execution_count": 73,
     "metadata": {},
     "output_type": "execute_result"
    }
   ],
   "source": [
    "mongo_obj.read()"
   ]
  },
  {
   "cell_type": "markdown",
   "metadata": {},
   "source": [
    "## Flask"
   ]
  },
  {
   "cell_type": "code",
   "execution_count": null,
   "metadata": {},
   "outputs": [],
   "source": [
    "from flask import Flask, Response\n",
    "app = Flask(__name__)"
   ]
  },
  {
   "cell_type": "code",
   "execution_count": null,
   "metadata": {},
   "outputs": [],
   "source": [
    "@app.route('/')\n",
    "def base():\n",
    "    return Response(response=json.dumps({\"Status\": \"UP\"}),\n",
    "                    status=200,\n",
    "                    mimetype='application/json')\n",
    "  \n",
    "if __name__ == '__main__':\n",
    "    app.run(debug=True, port=5001, host='0.0.0.0')"
   ]
  }
 ],
 "metadata": {
  "kernelspec": {
   "display_name": "Python 3",
   "language": "python",
   "name": "python3"
  },
  "language_info": {
   "codemirror_mode": {
    "name": "ipython",
    "version": 3
   },
   "file_extension": ".py",
   "mimetype": "text/x-python",
   "name": "python",
   "nbconvert_exporter": "python",
   "pygments_lexer": "ipython3",
   "version": "3.7.6"
  }
 },
 "nbformat": 4,
 "nbformat_minor": 4
}
